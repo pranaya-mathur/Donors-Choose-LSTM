{
 "cells": [
  {
   "cell_type": "code",
   "execution_count": 1,
   "metadata": {
    "colab": {
     "base_uri": "https://localhost:8080/",
     "height": 122
    },
    "colab_type": "code",
    "id": "HksDC99cIdFt",
    "outputId": "5801ba61-7934-468c-ed80-0fe1cb07c9ca"
   },
   "outputs": [
    {
     "name": "stdout",
     "output_type": "stream",
     "text": [
      "Go to this URL in a browser: https://accounts.google.com/o/oauth2/auth?client_id=947318989803-6bn6qk8qdgf4n4g3pfee6491hc0brc4i.apps.googleusercontent.com&redirect_uri=urn%3Aietf%3Awg%3Aoauth%3A2.0%3Aoob&scope=email%20https%3A%2F%2Fwww.googleapis.com%2Fauth%2Fdocs.test%20https%3A%2F%2Fwww.googleapis.com%2Fauth%2Fdrive%20https%3A%2F%2Fwww.googleapis.com%2Fauth%2Fdrive.photos.readonly%20https%3A%2F%2Fwww.googleapis.com%2Fauth%2Fpeopleapi.readonly&response_type=code\n",
      "\n",
      "Enter your authorization code:\n",
      "··········\n",
      "Mounted at /content/drive\n"
     ]
    }
   ],
   "source": [
    "from google.colab import drive\n",
    "drive.mount('/content/drive')"
   ]
  },
  {
   "cell_type": "code",
   "execution_count": 2,
   "metadata": {
    "colab": {
     "base_uri": "https://localhost:8080/",
     "height": 34
    },
    "colab_type": "code",
    "id": "HfRYwIBy2GGy",
    "outputId": "4a4669f7-ffc4-4e55-94c3-cf4da9263ef7"
   },
   "outputs": [
    {
     "name": "stderr",
     "output_type": "stream",
     "text": [
      "Using TensorFlow backend.\n"
     ]
    }
   ],
   "source": [
    "# importing required libraries\n",
    "import warnings\n",
    "warnings.filterwarnings(\"ignore\")\n",
    "import pandas as pd\n",
    "import numpy as np\n",
    "from keras.layers import Input, Embedding, LSTM, Dropout, BatchNormalization, Dense, concatenate, Flatten, Conv1D, MaxPool1D, LeakyReLU, ELU, SpatialDropout1D, MaxPooling1D, GlobalAveragePooling1D, GlobalMaxPooling1D\n",
    "from keras.preprocessing.text import Tokenizer, one_hot\n",
    "from keras.preprocessing.sequence import pad_sequences\n",
    "from keras.models import Model, load_model\n",
    "from keras import regularizers\n",
    "from keras.optimizers import *\n",
    "from keras.callbacks import ModelCheckpoint, EarlyStopping, TensorBoard, ReduceLROnPlateau\n",
    "from sklearn.feature_extraction.text import TfidfVectorizer, CountVectorizer\n",
    "from sklearn.metrics import roc_auc_score\n",
    "import tensorflow as tf\n",
    "import matplotlib.pyplot as plt\n",
    "%matplotlib inline\n",
    "import re\n",
    "from tqdm import tqdm\n",
    "from sklearn.preprocessing import LabelEncoder\n",
    "import seaborn as sns\n",
    "import pickle"
   ]
  },
  {
   "cell_type": "code",
   "execution_count": 3,
   "metadata": {
    "colab": {
     "base_uri": "https://localhost:8080/",
     "height": 513
    },
    "colab_type": "code",
    "id": "ek7Abw8b321q",
    "outputId": "b4bb37fb-b690-431e-8fb0-b6e6e8708cd3"
   },
   "outputs": [
    {
     "data": {
      "text/html": [
       "<div>\n",
       "<style scoped>\n",
       "    .dataframe tbody tr th:only-of-type {\n",
       "        vertical-align: middle;\n",
       "    }\n",
       "\n",
       "    .dataframe tbody tr th {\n",
       "        vertical-align: top;\n",
       "    }\n",
       "\n",
       "    .dataframe thead th {\n",
       "        text-align: right;\n",
       "    }\n",
       "</style>\n",
       "<table border=\"1\" class=\"dataframe\">\n",
       "  <thead>\n",
       "    <tr style=\"text-align: right;\">\n",
       "      <th></th>\n",
       "      <th>Unnamed: 0</th>\n",
       "      <th>id</th>\n",
       "      <th>teacher_id</th>\n",
       "      <th>teacher_prefix</th>\n",
       "      <th>school_state</th>\n",
       "      <th>project_submitted_datetime</th>\n",
       "      <th>project_grade_category</th>\n",
       "      <th>project_subject_categories</th>\n",
       "      <th>project_subject_subcategories</th>\n",
       "      <th>project_title</th>\n",
       "      <th>project_essay_1</th>\n",
       "      <th>project_essay_2</th>\n",
       "      <th>project_essay_3</th>\n",
       "      <th>project_essay_4</th>\n",
       "      <th>project_resource_summary</th>\n",
       "      <th>teacher_number_of_previously_posted_projects</th>\n",
       "      <th>project_is_approved</th>\n",
       "    </tr>\n",
       "  </thead>\n",
       "  <tbody>\n",
       "    <tr>\n",
       "      <th>0</th>\n",
       "      <td>160221</td>\n",
       "      <td>p253737</td>\n",
       "      <td>c90749f5d961ff158d4b4d1e7dc665fc</td>\n",
       "      <td>Mrs.</td>\n",
       "      <td>IN</td>\n",
       "      <td>2016-12-05 13:43:57</td>\n",
       "      <td>Grades PreK-2</td>\n",
       "      <td>Literacy &amp; Language</td>\n",
       "      <td>ESL, Literacy</td>\n",
       "      <td>Educational Support for English Learners at Home</td>\n",
       "      <td>My students are English learners that are work...</td>\n",
       "      <td>\\\"The limits of your language are the limits o...</td>\n",
       "      <td>NaN</td>\n",
       "      <td>NaN</td>\n",
       "      <td>My students need opportunities to practice beg...</td>\n",
       "      <td>0</td>\n",
       "      <td>0</td>\n",
       "    </tr>\n",
       "    <tr>\n",
       "      <th>1</th>\n",
       "      <td>140945</td>\n",
       "      <td>p258326</td>\n",
       "      <td>897464ce9ddc600bced1151f324dd63a</td>\n",
       "      <td>Mr.</td>\n",
       "      <td>FL</td>\n",
       "      <td>2016-10-25 09:22:10</td>\n",
       "      <td>Grades 6-8</td>\n",
       "      <td>History &amp; Civics, Health &amp; Sports</td>\n",
       "      <td>Civics &amp; Government, Team Sports</td>\n",
       "      <td>Wanted: Projector for Hungry Learners</td>\n",
       "      <td>Our students arrive to our school eager to lea...</td>\n",
       "      <td>The projector we need for our school is very c...</td>\n",
       "      <td>NaN</td>\n",
       "      <td>NaN</td>\n",
       "      <td>My students need a projector to help with view...</td>\n",
       "      <td>7</td>\n",
       "      <td>1</td>\n",
       "    </tr>\n",
       "    <tr>\n",
       "      <th>2</th>\n",
       "      <td>21895</td>\n",
       "      <td>p182444</td>\n",
       "      <td>3465aaf82da834c0582ebd0ef8040ca0</td>\n",
       "      <td>Ms.</td>\n",
       "      <td>AZ</td>\n",
       "      <td>2016-08-31 12:03:56</td>\n",
       "      <td>Grades 6-8</td>\n",
       "      <td>Health &amp; Sports</td>\n",
       "      <td>Health &amp; Wellness, Team Sports</td>\n",
       "      <td>Soccer Equipment for AWESOME Middle School Stu...</td>\n",
       "      <td>\\r\\n\\\"True champions aren't always the ones th...</td>\n",
       "      <td>The students on the campus come to school know...</td>\n",
       "      <td>NaN</td>\n",
       "      <td>NaN</td>\n",
       "      <td>My students need shine guards, athletic socks,...</td>\n",
       "      <td>1</td>\n",
       "      <td>0</td>\n",
       "    </tr>\n",
       "    <tr>\n",
       "      <th>3</th>\n",
       "      <td>45</td>\n",
       "      <td>p246581</td>\n",
       "      <td>f3cb9bffbba169bef1a77b243e620b60</td>\n",
       "      <td>Mrs.</td>\n",
       "      <td>KY</td>\n",
       "      <td>2016-10-06 21:16:17</td>\n",
       "      <td>Grades PreK-2</td>\n",
       "      <td>Literacy &amp; Language, Math &amp; Science</td>\n",
       "      <td>Literacy, Mathematics</td>\n",
       "      <td>Techie Kindergarteners</td>\n",
       "      <td>I work at a unique school filled with both ESL...</td>\n",
       "      <td>My students live in high poverty conditions wi...</td>\n",
       "      <td>NaN</td>\n",
       "      <td>NaN</td>\n",
       "      <td>My students need to engage in Reading and Math...</td>\n",
       "      <td>4</td>\n",
       "      <td>1</td>\n",
       "    </tr>\n",
       "    <tr>\n",
       "      <th>4</th>\n",
       "      <td>172407</td>\n",
       "      <td>p104768</td>\n",
       "      <td>be1f7507a41f8479dc06f047086a39ec</td>\n",
       "      <td>Mrs.</td>\n",
       "      <td>TX</td>\n",
       "      <td>2016-07-11 01:10:09</td>\n",
       "      <td>Grades PreK-2</td>\n",
       "      <td>Math &amp; Science</td>\n",
       "      <td>Mathematics</td>\n",
       "      <td>Interactive Math Tools</td>\n",
       "      <td>Our second grade classroom next year will be m...</td>\n",
       "      <td>For many students, math is a subject that does...</td>\n",
       "      <td>NaN</td>\n",
       "      <td>NaN</td>\n",
       "      <td>My students need hands on practice in mathemat...</td>\n",
       "      <td>1</td>\n",
       "      <td>1</td>\n",
       "    </tr>\n",
       "  </tbody>\n",
       "</table>\n",
       "</div>"
      ],
      "text/plain": [
       "   Unnamed: 0  ... project_is_approved\n",
       "0      160221  ...                   0\n",
       "1      140945  ...                   1\n",
       "2       21895  ...                   0\n",
       "3          45  ...                   1\n",
       "4      172407  ...                   1\n",
       "\n",
       "[5 rows x 17 columns]"
      ]
     },
     "execution_count": 3,
     "metadata": {
      "tags": []
     },
     "output_type": "execute_result"
    }
   ],
   "source": [
    "# reading datasets\n",
    "project_data = pd.read_csv(\"drive/My Drive/Donors for AFR Classroom/train_data.csv\")\n",
    "project_data.head()"
   ]
  },
  {
   "cell_type": "code",
   "execution_count": 4,
   "metadata": {
    "colab": {
     "base_uri": "https://localhost:8080/",
     "height": 68
    },
    "colab_type": "code",
    "id": "k5tGbYeY4Cxt",
    "outputId": "ad93e7b4-6d83-4efd-d041-3b4b1733cd67"
   },
   "outputs": [
    {
     "data": {
      "text/plain": [
       "1    92706\n",
       "0    16542\n",
       "Name: project_is_approved, dtype: int64"
      ]
     },
     "execution_count": 4,
     "metadata": {
      "tags": []
     },
     "output_type": "execute_result"
    }
   ],
   "source": [
    "project_data[\"project_is_approved\"].value_counts()"
   ]
  },
  {
   "cell_type": "code",
   "execution_count": 5,
   "metadata": {
    "colab": {
     "base_uri": "https://localhost:8080/",
     "height": 204
    },
    "colab_type": "code",
    "id": "W8zTBCta4DuS",
    "outputId": "dc80af38-3081-4c33-a131-299d175e5fb2"
   },
   "outputs": [
    {
     "data": {
      "text/html": [
       "<div>\n",
       "<style scoped>\n",
       "    .dataframe tbody tr th:only-of-type {\n",
       "        vertical-align: middle;\n",
       "    }\n",
       "\n",
       "    .dataframe tbody tr th {\n",
       "        vertical-align: top;\n",
       "    }\n",
       "\n",
       "    .dataframe thead th {\n",
       "        text-align: right;\n",
       "    }\n",
       "</style>\n",
       "<table border=\"1\" class=\"dataframe\">\n",
       "  <thead>\n",
       "    <tr style=\"text-align: right;\">\n",
       "      <th></th>\n",
       "      <th>id</th>\n",
       "      <th>description</th>\n",
       "      <th>quantity</th>\n",
       "      <th>price</th>\n",
       "    </tr>\n",
       "  </thead>\n",
       "  <tbody>\n",
       "    <tr>\n",
       "      <th>0</th>\n",
       "      <td>p233245</td>\n",
       "      <td>LC652 - Lakeshore Double-Space Mobile Drying Rack</td>\n",
       "      <td>1</td>\n",
       "      <td>149.00</td>\n",
       "    </tr>\n",
       "    <tr>\n",
       "      <th>1</th>\n",
       "      <td>p069063</td>\n",
       "      <td>Bouncy Bands for Desks (Blue support pipes)</td>\n",
       "      <td>3</td>\n",
       "      <td>14.95</td>\n",
       "    </tr>\n",
       "    <tr>\n",
       "      <th>2</th>\n",
       "      <td>p069063</td>\n",
       "      <td>Cory Stories: A Kid's Book About Living With Adhd</td>\n",
       "      <td>1</td>\n",
       "      <td>8.45</td>\n",
       "    </tr>\n",
       "    <tr>\n",
       "      <th>3</th>\n",
       "      <td>p069063</td>\n",
       "      <td>Dixon Ticonderoga Wood-Cased #2 HB Pencils, Bo...</td>\n",
       "      <td>2</td>\n",
       "      <td>13.59</td>\n",
       "    </tr>\n",
       "    <tr>\n",
       "      <th>4</th>\n",
       "      <td>p069063</td>\n",
       "      <td>EDUCATIONAL INSIGHTS FLUORESCENT LIGHT FILTERS...</td>\n",
       "      <td>3</td>\n",
       "      <td>24.95</td>\n",
       "    </tr>\n",
       "  </tbody>\n",
       "</table>\n",
       "</div>"
      ],
      "text/plain": [
       "        id                                        description  quantity   price\n",
       "0  p233245  LC652 - Lakeshore Double-Space Mobile Drying Rack         1  149.00\n",
       "1  p069063        Bouncy Bands for Desks (Blue support pipes)         3   14.95\n",
       "2  p069063  Cory Stories: A Kid's Book About Living With Adhd         1    8.45\n",
       "3  p069063  Dixon Ticonderoga Wood-Cased #2 HB Pencils, Bo...         2   13.59\n",
       "4  p069063  EDUCATIONAL INSIGHTS FLUORESCENT LIGHT FILTERS...         3   24.95"
      ]
     },
     "execution_count": 5,
     "metadata": {
      "tags": []
     },
     "output_type": "execute_result"
    }
   ],
   "source": [
    "resources = pd.read_csv(\"drive/My Drive/Donors for AFR Classroom/resources.csv\")\n",
    "resources.head()"
   ]
  },
  {
   "cell_type": "code",
   "execution_count": 0,
   "metadata": {
    "colab": {},
    "colab_type": "code",
    "id": "9h8aNkMg4GlJ"
   },
   "outputs": [],
   "source": [
    "# We will combine these two datasets based on the id\n",
    "\n",
    "price_data = resources.groupby('id').agg({'price':'sum', 'quantity':'sum'}).reset_index()\n",
    "project_data = pd.merge(project_data, price_data, on='id', how='left')"
   ]
  },
  {
   "cell_type": "code",
   "execution_count": 0,
   "metadata": {
    "colab": {},
    "colab_type": "code",
    "id": "voPnMTLv5XOw"
   },
   "outputs": [],
   "source": [
    "# It can been seen that there are some emtpy cells both for project_essay_3 and project_essay_4\n",
    "# We will combine all the project essay columns into one single feature\n",
    "\n",
    "project_data[\"text\"] = project_data[\"project_essay_1\"].map(str) +\\\n",
    "                        project_data[\"project_essay_2\"].map(str) + \\\n",
    "                        project_data[\"project_essay_3\"].map(str) + \\\n",
    "                        project_data[\"project_essay_4\"].map(str)"
   ]
  },
  {
   "cell_type": "code",
   "execution_count": 0,
   "metadata": {
    "colab": {},
    "colab_type": "code",
    "id": "BKS0MsQB5lm0"
   },
   "outputs": [],
   "source": [
    "project_data = project_data.drop([\"project_essay_1\",\"project_essay_2\",\"project_essay_3\",\"project_essay_4\",\"project_title\"],axis=1)"
   ]
  },
  {
   "cell_type": "code",
   "execution_count": 0,
   "metadata": {
    "colab": {},
    "colab_type": "code",
    "id": "TuAuDASS5_Jx"
   },
   "outputs": [],
   "source": [
    "# We clean the essay text data\n",
    "# For this task, we have defined some helper functions\n",
    "# The same function and code snippet will be used to clean project title\n",
    "# https://stackoverflow.com/a/47091490/4084039\n",
    "\n",
    "def decontracted(phrase):\n",
    "    # specific\n",
    "    phrase = re.sub(r\"won't\", \"will not\", phrase)\n",
    "    phrase = re.sub(r\"can\\'t\", \"can not\", phrase)\n",
    "\n",
    "    # general\n",
    "    phrase = re.sub(r\"n\\'t\", \" not\", phrase)\n",
    "    phrase = re.sub(r\"\\'re\", \" are\", phrase)\n",
    "    phrase = re.sub(r\"\\'s\", \" is\", phrase)\n",
    "    phrase = re.sub(r\"\\'d\", \" would\", phrase)\n",
    "    phrase = re.sub(r\"\\'ll\", \" will\", phrase)\n",
    "    phrase = re.sub(r\"\\'t\", \" not\", phrase)\n",
    "    phrase = re.sub(r\"\\'ve\", \" have\", phrase)\n",
    "    phrase = re.sub(r\"\\'m\", \" am\", phrase)\n",
    "    return phrase\n",
    "\n",
    "# https://gist.github.com/sebleier/554280\n",
    "\n",
    "stopwords= ['i', 'me', 'my', 'myself', 'we', 'our', 'ours', 'ourselves', 'you', \"you're\", \"you've\",\\\n",
    "            \"you'll\", \"you'd\", 'your', 'yours', 'yourself', 'yourselves', 'he', 'him', 'his', 'himself', \\\n",
    "            'she', \"she's\", 'her', 'hers', 'herself', 'it', \"it's\", 'its', 'itself', 'they', 'them', 'their',\\\n",
    "            'theirs', 'themselves', 'what', 'which', 'who', 'whom', 'this', 'that', \"that'll\", 'these', 'those', \\\n",
    "            'am', 'is', 'are', 'was', 'were', 'be', 'been', 'being', 'have', 'has', 'had', 'having', 'do', 'does', \\\n",
    "            'did', 'doing', 'a', 'an', 'the', 'and', 'but', 'if', 'or', 'because', 'as', 'until', 'while', 'of', \\\n",
    "            'at', 'by', 'for', 'with', 'about', 'against', 'between', 'into', 'through', 'during', 'before', 'after',\\\n",
    "            'above', 'below', 'to', 'from', 'up', 'down', 'in', 'out', 'on', 'off', 'over', 'under', 'again', 'further',\\\n",
    "            'then', 'once', 'here', 'there', 'when', 'where', 'why', 'how', 'all', 'any', 'both', 'each', 'few', 'more',\\\n",
    "            'most', 'other', 'some', 'such', 'only', 'own', 'same', 'so', 'than', 'too', 'very', \\\n",
    "            's', 't', 'can', 'will', 'just', 'don', \"don't\", 'should', \"should've\", 'now', 'd', 'll', 'm', 'o', 're', \\\n",
    "            've', 'y', 'ain', 'aren', \"aren't\", 'couldn', \"couldn't\", 'didn', \"didn't\", 'doesn', \"doesn't\", 'hadn',\\\n",
    "            \"hadn't\", 'hasn', \"hasn't\", 'haven', \"haven't\", 'isn', \"isn't\", 'ma', 'mightn', \"mightn't\", 'mustn',\\\n",
    "            \"mustn't\", 'needn', \"needn't\", 'shan', \"shan't\", 'shouldn', \"shouldn't\", 'wasn', \"wasn't\", 'weren', \"weren't\", \\\n",
    "            'won', \"won't\", 'wouldn', \"wouldn't\"]"
   ]
  },
  {
   "cell_type": "code",
   "execution_count": 10,
   "metadata": {
    "colab": {
     "base_uri": "https://localhost:8080/",
     "height": 34
    },
    "colab_type": "code",
    "id": "GX3DrVqx6CtR",
    "outputId": "6a63980f-262b-4002-b8a6-735571511d77"
   },
   "outputs": [
    {
     "name": "stderr",
     "output_type": "stream",
     "text": [
      "100%|██████████| 109248/109248 [01:07<00:00, 1626.13it/s]\n"
     ]
    }
   ],
   "source": [
    "# Cleaning Text feature\n",
    "preprocessed_text = []\n",
    "# tqdm is for printing the status bar\n",
    "for sentance in tqdm(project_data['text'].values):\n",
    "    sent = decontracted(sentance)\n",
    "    sent = sent.replace('\\\\r', ' ')\n",
    "    sent = sent.replace('\\\\\"', ' ')\n",
    "    sent = sent.replace('\\\\n', ' ')\n",
    "    sent = re.sub('[^A-Za-z0-9]+', ' ', sent)\n",
    "    # https://gist.github.com/sebleier/554280\n",
    "    sent = ' '.join(e for e in sent.split() if e not in stopwords)\n",
    "    preprocessed_text.append(sent.lower().strip())"
   ]
  },
  {
   "cell_type": "code",
   "execution_count": 0,
   "metadata": {
    "colab": {},
    "colab_type": "code",
    "id": "XFP-WNPL6E8c"
   },
   "outputs": [],
   "source": [
    "project_data[\"clean_text\"] = preprocessed_text"
   ]
  },
  {
   "cell_type": "code",
   "execution_count": 0,
   "metadata": {
    "colab": {},
    "colab_type": "code",
    "id": "q_VYi3xk6aTl"
   },
   "outputs": [],
   "source": [
    "project_data = project_data.drop(['Unnamed: 0', 'id', 'teacher_id',\n",
    "                                  'project_submitted_datetime','text'],axis=1)"
   ]
  },
  {
   "cell_type": "code",
   "execution_count": 0,
   "metadata": {
    "colab": {},
    "colab_type": "code",
    "id": "w4wPmWfx6ohQ"
   },
   "outputs": [],
   "source": [
    "# we have categorical features also, will do cleaning one by one\n",
    "\n",
    "# https://stackoverflow.com/questions/36383821/pandas-dataframe-apply-function-to-column-strings-based-on-other-column-value\n",
    "project_data['project_grade_category'] = project_data['project_grade_category'].str.replace(' ','_')\n",
    "project_data['project_grade_category'] = project_data['project_grade_category'].str.replace('-','_')\n",
    "project_data['project_grade_category'] = project_data['project_grade_category'].str.lower()\n",
    "\n",
    "\n",
    "project_data['project_subject_categories'] = project_data['project_subject_categories'].str.replace(' The ','')\n",
    "project_data['project_subject_categories'] = project_data['project_subject_categories'].str.replace(' ','')\n",
    "project_data['project_subject_categories'] = project_data['project_subject_categories'].str.replace('&','_')\n",
    "project_data['project_subject_categories'] = project_data['project_subject_categories'].str.replace(',','_')\n",
    "project_data['project_subject_categories'] = project_data['project_subject_categories'].str.lower()\n",
    "\n",
    "\n",
    "project_data['teacher_prefix']=project_data['teacher_prefix'].fillna('Mrs.')\n",
    "project_data['teacher_prefix'] = project_data['teacher_prefix'].str.replace('.','')\n",
    "project_data['teacher_prefix'] = project_data['teacher_prefix'].str.lower()\n",
    "\n",
    "\n",
    "project_data['project_subject_subcategories'] = project_data['project_subject_subcategories'].str.replace(' The ','')\n",
    "project_data['project_subject_subcategories'] = project_data['project_subject_subcategories'].str.replace(' ','')\n",
    "project_data['project_subject_subcategories'] = project_data['project_subject_subcategories'].str.replace('&','_')\n",
    "project_data['project_subject_subcategories'] = project_data['project_subject_subcategories'].str.replace(',','_')\n",
    "project_data['project_subject_subcategories'] = project_data['project_subject_subcategories'].str.lower()\n",
    "\n",
    "project_data['school_state'] = project_data['school_state'].str.lower()"
   ]
  },
  {
   "cell_type": "code",
   "execution_count": 15,
   "metadata": {
    "colab": {
     "base_uri": "https://localhost:8080/",
     "height": 615
    },
    "colab_type": "code",
    "id": "4jUvAhXg6q9c",
    "outputId": "e061a6b4-45a1-4ac9-c3df-2d4652e4b5b2"
   },
   "outputs": [
    {
     "data": {
      "text/html": [
       "<div>\n",
       "<style scoped>\n",
       "    .dataframe tbody tr th:only-of-type {\n",
       "        vertical-align: middle;\n",
       "    }\n",
       "\n",
       "    .dataframe tbody tr th {\n",
       "        vertical-align: top;\n",
       "    }\n",
       "\n",
       "    .dataframe thead th {\n",
       "        text-align: right;\n",
       "    }\n",
       "</style>\n",
       "<table border=\"1\" class=\"dataframe\">\n",
       "  <thead>\n",
       "    <tr style=\"text-align: right;\">\n",
       "      <th></th>\n",
       "      <th>teacher_prefix</th>\n",
       "      <th>school_state</th>\n",
       "      <th>project_grade_category</th>\n",
       "      <th>project_subject_categories</th>\n",
       "      <th>project_subject_subcategories</th>\n",
       "      <th>project_resource_summary</th>\n",
       "      <th>teacher_number_of_previously_posted_projects</th>\n",
       "      <th>project_is_approved</th>\n",
       "      <th>price</th>\n",
       "      <th>quantity</th>\n",
       "      <th>clean_text</th>\n",
       "    </tr>\n",
       "  </thead>\n",
       "  <tbody>\n",
       "    <tr>\n",
       "      <th>0</th>\n",
       "      <td>mrs</td>\n",
       "      <td>in</td>\n",
       "      <td>grades_prek_2</td>\n",
       "      <td>literacy_language</td>\n",
       "      <td>esl_literacy</td>\n",
       "      <td>My students need opportunities to practice beg...</td>\n",
       "      <td>0</td>\n",
       "      <td>0</td>\n",
       "      <td>154.60</td>\n",
       "      <td>23</td>\n",
       "      <td>my students english learners working english s...</td>\n",
       "    </tr>\n",
       "    <tr>\n",
       "      <th>1</th>\n",
       "      <td>mr</td>\n",
       "      <td>fl</td>\n",
       "      <td>grades_6_8</td>\n",
       "      <td>history_civics_health_sports</td>\n",
       "      <td>civics_government_teamsports</td>\n",
       "      <td>My students need a projector to help with view...</td>\n",
       "      <td>7</td>\n",
       "      <td>1</td>\n",
       "      <td>299.00</td>\n",
       "      <td>1</td>\n",
       "      <td>our students arrive school eager learn they po...</td>\n",
       "    </tr>\n",
       "    <tr>\n",
       "      <th>2</th>\n",
       "      <td>ms</td>\n",
       "      <td>az</td>\n",
       "      <td>grades_6_8</td>\n",
       "      <td>health_sports</td>\n",
       "      <td>health_wellness_teamsports</td>\n",
       "      <td>My students need shine guards, athletic socks,...</td>\n",
       "      <td>1</td>\n",
       "      <td>0</td>\n",
       "      <td>516.85</td>\n",
       "      <td>22</td>\n",
       "      <td>true champions not always ones win guts by mia...</td>\n",
       "    </tr>\n",
       "    <tr>\n",
       "      <th>3</th>\n",
       "      <td>mrs</td>\n",
       "      <td>ky</td>\n",
       "      <td>grades_prek_2</td>\n",
       "      <td>literacy_language_math_science</td>\n",
       "      <td>literacy_mathematics</td>\n",
       "      <td>My students need to engage in Reading and Math...</td>\n",
       "      <td>4</td>\n",
       "      <td>1</td>\n",
       "      <td>232.90</td>\n",
       "      <td>4</td>\n",
       "      <td>i work unique school filled esl english second...</td>\n",
       "    </tr>\n",
       "    <tr>\n",
       "      <th>4</th>\n",
       "      <td>mrs</td>\n",
       "      <td>tx</td>\n",
       "      <td>grades_prek_2</td>\n",
       "      <td>math_science</td>\n",
       "      <td>mathematics</td>\n",
       "      <td>My students need hands on practice in mathemat...</td>\n",
       "      <td>1</td>\n",
       "      <td>1</td>\n",
       "      <td>67.98</td>\n",
       "      <td>4</td>\n",
       "      <td>our second grade classroom next year made arou...</td>\n",
       "    </tr>\n",
       "  </tbody>\n",
       "</table>\n",
       "</div>"
      ],
      "text/plain": [
       "  teacher_prefix  ...                                         clean_text\n",
       "0            mrs  ...  my students english learners working english s...\n",
       "1             mr  ...  our students arrive school eager learn they po...\n",
       "2             ms  ...  true champions not always ones win guts by mia...\n",
       "3            mrs  ...  i work unique school filled esl english second...\n",
       "4            mrs  ...  our second grade classroom next year made arou...\n",
       "\n",
       "[5 rows x 11 columns]"
      ]
     },
     "execution_count": 15,
     "metadata": {
      "tags": []
     },
     "output_type": "execute_result"
    }
   ],
   "source": [
    "project_data.head()"
   ]
  },
  {
   "cell_type": "code",
   "execution_count": 16,
   "metadata": {
    "colab": {
     "base_uri": "https://localhost:8080/",
     "height": 34
    },
    "colab_type": "code",
    "id": "3NJdHiqh6uWX",
    "outputId": "a4cff9e3-360b-406f-ffdc-a762ac55bacc"
   },
   "outputs": [
    {
     "name": "stderr",
     "output_type": "stream",
     "text": [
      "100%|██████████| 109248/109248 [00:01<00:00, 66670.61it/s]\n"
     ]
    }
   ],
   "source": [
    "# we will extract numerical digits from the project resource summary\n",
    "\n",
    "project_summary_numerical = []\n",
    "for sentance in tqdm(project_data['project_resource_summary']):\n",
    "    sent1 = decontracted(sentance)\n",
    "    sent1 = ' '.join(e for e in sent1.split() if e.isdigit())\n",
    "    k=len(sent1)\n",
    "    project_summary_numerical.append(k)\n",
    "\n",
    "project_data[\"project_summary_numerical\"] = project_summary_numerical"
   ]
  },
  {
   "cell_type": "code",
   "execution_count": 0,
   "metadata": {
    "colab": {},
    "colab_type": "code",
    "id": "qm_NrJnR64nA"
   },
   "outputs": [],
   "source": [
    "target = project_data[\"project_is_approved\"]\n",
    "features = project_data.drop([\"project_resource_summary\",\"project_is_approved\"],axis=1)"
   ]
  },
  {
   "cell_type": "code",
   "execution_count": 0,
   "metadata": {
    "colab": {},
    "colab_type": "code",
    "id": "yfpl7r5k67Gq"
   },
   "outputs": [],
   "source": [
    "# We split our dataset into train,cross-validation and test set\n",
    "from sklearn.model_selection import train_test_split\n",
    "X_train, X_test, y_train, y_test = train_test_split(features, target, stratify=target,test_size=0.22,random_state=123)"
   ]
  },
  {
   "cell_type": "code",
   "execution_count": 19,
   "metadata": {
    "colab": {
     "base_uri": "https://localhost:8080/",
     "height": 68
    },
    "colab_type": "code",
    "id": "M8dC0H1SQmrn",
    "outputId": "acc8cdd1-a0cd-4296-b797-020633fbe342"
   },
   "outputs": [
    {
     "name": "stdout",
     "output_type": "stream",
     "text": [
      "(85213, 10)\n",
      "+++++++++++++\n",
      "(24035, 10)\n"
     ]
    }
   ],
   "source": [
    "print(X_train.shape)\n",
    "print(\"+++++++++++++\")\n",
    "print(X_test.shape)"
   ]
  },
  {
   "cell_type": "code",
   "execution_count": 0,
   "metadata": {
    "colab": {},
    "colab_type": "code",
    "id": "8nRdhAhHnfnQ"
   },
   "outputs": [],
   "source": [
    "MAX_SEQUENCE_LENGTH = 800\n",
    "# MAX_VOCAB_SIZE = 1000000\n",
    "EMBEDDING_DIM = 300"
   ]
  },
  {
   "cell_type": "code",
   "execution_count": 0,
   "metadata": {
    "colab": {},
    "colab_type": "code",
    "id": "LU1rlS0vnh2G"
   },
   "outputs": [],
   "source": [
    "# convert the sentences (strings) into integers\n",
    "tokenizer = Tokenizer()\n",
    "tokenizer.fit_on_texts(X_train[\"clean_text\"].tolist())\n",
    "sequences_train = tokenizer.texts_to_sequences(X_train[\"clean_text\"])\n",
    "sequences_test = tokenizer.texts_to_sequences(X_test[\"clean_text\"])"
   ]
  },
  {
   "cell_type": "code",
   "execution_count": 22,
   "metadata": {
    "colab": {
     "base_uri": "https://localhost:8080/",
     "height": 34
    },
    "colab_type": "code",
    "id": "OxPbHJ21nkhR",
    "outputId": "c98d1f07-d8cb-415f-9a8b-a8d10a21db47"
   },
   "outputs": [
    {
     "name": "stdout",
     "output_type": "stream",
     "text": [
      "Found 51221 unique tokens.\n"
     ]
    }
   ],
   "source": [
    "# get word -> integer mapping\n",
    "word2idx = tokenizer.word_index\n",
    "print('Found %s unique tokens.' % len(word2idx))"
   ]
  },
  {
   "cell_type": "code",
   "execution_count": 23,
   "metadata": {
    "colab": {
     "base_uri": "https://localhost:8080/",
     "height": 34
    },
    "colab_type": "code",
    "id": "CpxZwVTznnA_",
    "outputId": "bc30413f-234b-4bf3-e7da-ea340acda65f"
   },
   "outputs": [
    {
     "name": "stdout",
     "output_type": "stream",
     "text": [
      "Shape of data tensor: (85213, 800)\n"
     ]
    }
   ],
   "source": [
    "encoded_train = pad_sequences(sequences_train,maxlen=MAX_SEQUENCE_LENGTH)\n",
    "print('Shape of data tensor:', encoded_train.shape)"
   ]
  },
  {
   "cell_type": "code",
   "execution_count": 24,
   "metadata": {
    "colab": {
     "base_uri": "https://localhost:8080/",
     "height": 34
    },
    "colab_type": "code",
    "id": "kUg67QkRno-u",
    "outputId": "88e0b7dd-06d4-4322-df03-1ac07ccc517f"
   },
   "outputs": [
    {
     "name": "stdout",
     "output_type": "stream",
     "text": [
      "Shape of data tensor: (24035, 800)\n"
     ]
    }
   ],
   "source": [
    "encoded_test = pad_sequences(sequences_test, maxlen=MAX_SEQUENCE_LENGTH)\n",
    "print('Shape of data tensor:', encoded_test.shape)"
   ]
  },
  {
   "cell_type": "code",
   "execution_count": 0,
   "metadata": {
    "colab": {},
    "colab_type": "code",
    "id": "3XYMjdVOnq3J"
   },
   "outputs": [],
   "source": [
    "# Loading Embedding File\n",
    "\n",
    "pickle_in = open(\"drive/My Drive/Donors for AFR Classroom/glove_vectors\",\"rb\")\n",
    "glove_words = pickle.load(pickle_in)"
   ]
  },
  {
   "cell_type": "code",
   "execution_count": 0,
   "metadata": {
    "colab": {},
    "colab_type": "code",
    "id": "SlixfKP8ntTq"
   },
   "outputs": [],
   "source": [
    "num_words = len(word2idx) + 1\n",
    "embedding_matrix = np.zeros((num_words, 300))\n",
    "for word, i in word2idx.items():\n",
    "  if i < 51221:\n",
    "    embedding_vector = glove_words.get(word)\n",
    "    if embedding_vector is not None:\n",
    "      # words not found in embedding index will be all zeros.\n",
    "      embedding_matrix[i] = embedding_vector"
   ]
  },
  {
   "cell_type": "code",
   "execution_count": 27,
   "metadata": {
    "colab": {
     "base_uri": "https://localhost:8080/",
     "height": 68
    },
    "colab_type": "code",
    "id": "h96Us-qYnu-E",
    "outputId": "f10f89ab-e06b-4fa5-ce12-1e89ba6ec160"
   },
   "outputs": [
    {
     "name": "stdout",
     "output_type": "stream",
     "text": [
      "51222\n",
      "+++++++++\n",
      "(51222, 300)\n"
     ]
    }
   ],
   "source": [
    "print(num_words)\n",
    "print(\"+++++++++\")\n",
    "print(embedding_matrix.shape)"
   ]
  },
  {
   "cell_type": "code",
   "execution_count": 28,
   "metadata": {
    "colab": {
     "base_uri": "https://localhost:8080/",
     "height": 275
    },
    "colab_type": "code",
    "id": "bFsoITwKKDF1",
    "outputId": "df2ad6f8-1d56-45ce-bbe4-c1e0ac362ac7"
   },
   "outputs": [
    {
     "name": "stderr",
     "output_type": "stream",
     "text": [
      "WARNING: Logging before flag parsing goes to stderr.\n",
      "W0812 04:49:00.673556 139841432504192 deprecation_wrapper.py:119] From /usr/local/lib/python3.6/dist-packages/keras/backend/tensorflow_backend.py:74: The name tf.get_default_graph is deprecated. Please use tf.compat.v1.get_default_graph instead.\n",
      "\n",
      "W0812 04:49:00.717617 139841432504192 deprecation_wrapper.py:119] From /usr/local/lib/python3.6/dist-packages/keras/backend/tensorflow_backend.py:517: The name tf.placeholder is deprecated. Please use tf.compat.v1.placeholder instead.\n",
      "\n",
      "W0812 04:49:00.727443 139841432504192 deprecation_wrapper.py:119] From /usr/local/lib/python3.6/dist-packages/keras/backend/tensorflow_backend.py:4138: The name tf.random_uniform is deprecated. Please use tf.random.uniform instead.\n",
      "\n",
      "W0812 04:49:00.739809 139841432504192 deprecation_wrapper.py:119] From /usr/local/lib/python3.6/dist-packages/keras/backend/tensorflow_backend.py:174: The name tf.get_default_session is deprecated. Please use tf.compat.v1.get_default_session instead.\n",
      "\n",
      "W0812 04:49:00.741158 139841432504192 deprecation_wrapper.py:119] From /usr/local/lib/python3.6/dist-packages/keras/backend/tensorflow_backend.py:181: The name tf.ConfigProto is deprecated. Please use tf.compat.v1.ConfigProto instead.\n",
      "\n",
      "W0812 04:49:04.155189 139841432504192 deprecation.py:506] From /usr/local/lib/python3.6/dist-packages/keras/backend/tensorflow_backend.py:3445: calling dropout (from tensorflow.python.ops.nn_ops) with keep_prob is deprecated and will be removed in a future version.\n",
      "Instructions for updating:\n",
      "Please use `rate` instead of `keep_prob`. Rate should be set to `rate = 1 - keep_prob`.\n"
     ]
    }
   ],
   "source": [
    "# load pre-trained word embeddings into an Embedding layer\n",
    "# note that we set trainable = False so as to keep the embeddings fixed\n",
    "embedding_layer = Embedding(\n",
    "  num_words,\n",
    "  300,\n",
    "  weights=[embedding_matrix],\n",
    "  input_length=MAX_SEQUENCE_LENGTH,\n",
    "  trainable=False\n",
    ")\n",
    "input_text = Input(shape=(MAX_SEQUENCE_LENGTH,),name=\"input_text\")\n",
    "x = embedding_layer(input_text)\n",
    "x = LSTM(256,recurrent_dropout=0.5,kernel_regularizer=regularizers.l2(0.001),return_sequences=True)(x) # dropout=0.5\n",
    "# x = SpatialDropout1D(0.5)(x)\n",
    "flatten_1 = Flatten()(x)"
   ]
  },
  {
   "cell_type": "code",
   "execution_count": 0,
   "metadata": {
    "colab": {},
    "colab_type": "code",
    "id": "k9rsc1NlnzMl"
   },
   "outputs": [],
   "source": [
    "vect = CountVectorizer(binary=True)\n",
    "vect.fit(X_train[\"teacher_prefix\"])\n",
    "\n",
    "train_prefix = vect.transform(X_train[\"teacher_prefix\"])\n",
    "test_prefix = vect.transform(X_test[\"teacher_prefix\"])"
   ]
  },
  {
   "cell_type": "code",
   "execution_count": 0,
   "metadata": {
    "colab": {},
    "colab_type": "code",
    "id": "E7dj3ESQn8rV"
   },
   "outputs": [],
   "source": [
    "vect = CountVectorizer(binary=True)\n",
    "vect.fit(X_train[\"school_state\"])\n",
    "\n",
    "train_state = vect.transform(X_train[\"school_state\"])\n",
    "test_state = vect.transform(X_test[\"school_state\"])"
   ]
  },
  {
   "cell_type": "code",
   "execution_count": 0,
   "metadata": {
    "colab": {},
    "colab_type": "code",
    "id": "rPNEXSnGn_S8"
   },
   "outputs": [],
   "source": [
    "vect = CountVectorizer(binary=True)\n",
    "vect.fit(X_train[\"project_grade_category\"])\n",
    "\n",
    "train_grade = vect.transform(X_train[\"project_grade_category\"])\n",
    "test_grade = vect.transform(X_test[\"project_grade_category\"])"
   ]
  },
  {
   "cell_type": "code",
   "execution_count": 0,
   "metadata": {
    "colab": {},
    "colab_type": "code",
    "id": "ZUSCBV1hoB_1"
   },
   "outputs": [],
   "source": [
    "vect = CountVectorizer(binary=True)\n",
    "vect.fit(X_train[\"project_subject_categories\"])\n",
    "\n",
    "train_subcat = vect.transform(X_train[\"project_subject_categories\"])\n",
    "test_subcat = vect.transform(X_test[\"project_subject_categories\"])"
   ]
  },
  {
   "cell_type": "code",
   "execution_count": 0,
   "metadata": {
    "colab": {},
    "colab_type": "code",
    "id": "6K7l_mAgoGGv"
   },
   "outputs": [],
   "source": [
    "vect = CountVectorizer(binary=True)\n",
    "vect.fit(X_train[\"project_subject_subcategories\"])\n",
    "\n",
    "train_subcat_1 = vect.transform(X_train[\"project_subject_subcategories\"])\n",
    "test_subcat_1 = vect.transform(X_test[\"project_subject_subcategories\"])"
   ]
  },
  {
   "cell_type": "code",
   "execution_count": 0,
   "metadata": {
    "colab": {},
    "colab_type": "code",
    "id": "OVrTzz56ofqA"
   },
   "outputs": [],
   "source": [
    "# Now we will prepare numerical features for our model\n",
    "num_train_1=X_train['project_summary_numerical'].values.reshape(-1, 1)\n",
    "num_train_2=X_train['price'].values.reshape(-1, 1)\n",
    "num_train_3=X_train['quantity'].values.reshape(-1, 1)\n",
    "num_train_4=X_train['teacher_number_of_previously_posted_projects'].values.reshape(-1, 1)\n",
    "\n",
    "num_test_1=X_test['project_summary_numerical'].values.reshape(-1, 1)\n",
    "num_test_2=X_test['price'].values.reshape(-1, 1)\n",
    "num_test_3=X_test['quantity'].values.reshape(-1, 1)\n",
    "num_test_4=X_test['teacher_number_of_previously_posted_projects'].values.reshape(-1, 1)\n",
    "\n",
    "\n",
    "num_train=np.concatenate((num_train_1,num_train_2,num_train_3,num_train_4),axis=1)\n",
    "\n",
    "num_test=np.concatenate((num_test_1,num_test_2,num_test_3,num_test_4),axis=1)\n",
    "\n",
    "\n",
    "from sklearn.preprocessing import StandardScaler\n",
    "norm=StandardScaler()\n",
    "norm_train=norm.fit_transform(num_train)\n",
    "norm_test=norm.transform(num_test)"
   ]
  },
  {
   "cell_type": "code",
   "execution_count": 0,
   "metadata": {
    "colab": {},
    "colab_type": "code",
    "id": "GcNSorEoopF2"
   },
   "outputs": [],
   "source": [
    "from scipy.sparse import hstack\n",
    "other_train = hstack([train_prefix,train_state,train_grade,train_subcat,train_subcat_1]).todense()\n",
    "other_test = hstack([test_prefix,test_state,test_grade,test_subcat,test_subcat_1]).todense()"
   ]
  },
  {
   "cell_type": "code",
   "execution_count": 0,
   "metadata": {
    "colab": {},
    "colab_type": "code",
    "id": "OLLMZ5bHowpW"
   },
   "outputs": [],
   "source": [
    "other_all_train = np.hstack((other_train,norm_train))\n",
    "other_all_test = np.hstack((other_test,norm_test))"
   ]
  },
  {
   "cell_type": "code",
   "execution_count": 0,
   "metadata": {
    "colab": {},
    "colab_type": "code",
    "id": "DUIAk5ZgpQ0G"
   },
   "outputs": [],
   "source": [
    "other_train_ = np.expand_dims(other_all_train,2)\n",
    "other_test_ = np.expand_dims(other_all_test,2)"
   ]
  },
  {
   "cell_type": "code",
   "execution_count": 38,
   "metadata": {
    "colab": {
     "base_uri": "https://localhost:8080/",
     "height": 68
    },
    "colab_type": "code",
    "id": "xKSyqURUoz1f",
    "outputId": "a18305c4-360d-4133-c443-49b06ec983c3"
   },
   "outputs": [
    {
     "name": "stdout",
     "output_type": "stream",
     "text": [
      "(85213, 512, 1)\n",
      "++++++++++++++\n",
      "(24035, 512, 1)\n"
     ]
    }
   ],
   "source": [
    "print(other_train_.shape)\n",
    "print(\"++++++++++++++\")\n",
    "print(other_test_.shape)"
   ]
  },
  {
   "cell_type": "code",
   "execution_count": 0,
   "metadata": {
    "colab": {},
    "colab_type": "code",
    "id": "KcJ3qTieo65m"
   },
   "outputs": [],
   "source": [
    "inp_conv =  Input(shape=(512, 1),name='features_all')\n",
    "x1 = Conv1D(filters=64, kernel_size=5, activation='relu')(inp_conv)\n",
    "x2 = Conv1D(filters=32, kernel_size=3, activation='relu')(x1)\n",
    "x3 = Flatten()(x2)"
   ]
  },
  {
   "cell_type": "code",
   "execution_count": 40,
   "metadata": {
    "colab": {
     "base_uri": "https://localhost:8080/",
     "height": 34
    },
    "colab_type": "code",
    "id": "TIEFbF4ipt92",
    "outputId": "38ba3708-d140-4702-bc8e-c3c56d425c61"
   },
   "outputs": [
    {
     "name": "stdout",
     "output_type": "stream",
     "text": [
      "Building Model-3\n"
     ]
    }
   ],
   "source": [
    "print(\"Building Model-3\")\n",
    "x_concatenate = concatenate([flatten_1,x3])\n",
    "# x_concatenate = BatchNormalization()(x_concatenate)\n",
    "x = Dense(128,activation=\"relu\", kernel_initializer=\"he_normal\",kernel_regularizer=regularizers.l2(0.001))(x_concatenate)\n",
    "# x=LeakyReLU(alpha=0.3)(x)\n",
    "x=Dropout(0.5)(x)\n",
    "x = Dense(256,activation=\"relu\",kernel_initializer=\"he_normal\",kernel_regularizer=regularizers.l2(0.001))(x)\n",
    "# x=LeakyReLU(alpha=0.3)(x)\n",
    "x=Dropout(0.5)(x)\n",
    "x = Dense(64,activation=\"relu\", kernel_initializer=\"he_normal\",kernel_regularizer=regularizers.l2(0.001))(x)\n",
    "# x = BatchNormalization()(x)\n",
    "# x=LeakyReLU(alpha=0.3)(x)\n",
    "output = Dense(2, activation='softmax', name='output')(x)\n",
    "model_3 = Model(inputs=[input_text,inp_conv],outputs=[output])"
   ]
  },
  {
   "cell_type": "code",
   "execution_count": 41,
   "metadata": {
    "colab": {
     "base_uri": "https://localhost:8080/",
     "height": 607
    },
    "colab_type": "code",
    "id": "Z38q_UL8p7-1",
    "outputId": "2dfdfee2-5951-45d2-e334-fd65ebf1bf14"
   },
   "outputs": [
    {
     "data": {
      "image/png": "[encoded data removed]",
      "text/plain": [
       "<IPython.core.display.Image object>"
      ]
     },
     "execution_count": 41,
     "metadata": {
      "image/png": {
       "height": 590,
       "width": 452
      },
      "tags": []
     },
     "output_type": "execute_result"
    }
   ],
   "source": [
    "# https://github.com/mmortazavi/EntityEmbedding-Working_Example/blob/master/EntityEmbedding.ipynb\n",
    "from keras.utils import plot_model\n",
    "import pydot_ng as pydot\n",
    "plot_model(model_3, show_shapes=True, show_layer_names=True, to_file='model_3.png')\n",
    "from IPython.display import Image\n",
    "Image(retina=True, filename='model_3.png')"
   ]
  },
  {
   "cell_type": "code",
   "execution_count": 0,
   "metadata": {
    "colab": {},
    "colab_type": "code",
    "id": "rG8Jf9NrqCic"
   },
   "outputs": [],
   "source": [
    "train_data_3 = [encoded_train,other_train_]\n",
    "test_data_3 = [encoded_test,other_test_]\n",
    "\n",
    "from keras.utils import np_utils\n",
    "Y_train = np_utils.to_categorical(y_train, 2) \n",
    "Y_test = np_utils.to_categorical(y_test, 2)"
   ]
  },
  {
   "cell_type": "code",
   "execution_count": 0,
   "metadata": {
    "colab": {},
    "colab_type": "code",
    "id": "lWlGpgLPqNkt"
   },
   "outputs": [],
   "source": [
    "checkpoint_3 = ModelCheckpoint(\"model_3.h5\",\n",
    "                             monitor=\"val_loss\",\n",
    "                             mode=\"min\",\n",
    "                             save_best_only = True,\n",
    "                             verbose=1)\n",
    "\n",
    "earlystop_3 = EarlyStopping(monitor = 'val_loss', \n",
    "                            mode=\"min\",\n",
    "                            min_delta = 0, \n",
    "                            patience = 5,\n",
    "                            verbose = 1,\n",
    "                            restore_best_weights = True)\n",
    "\n",
    "reduce_lr_3 = ReduceLROnPlateau(monitor = 'val_loss', factor = 0.2, patience = 2, verbose = 1, min_delta = 0.0001)\n",
    "\n",
    "tensorboard_3 = TensorBoard(log_dir='graph_3', histogram_freq=0, batch_size=512, write_graph=True, write_grads=False, write_images=False, embeddings_freq=0, embeddings_layer_names=None, embeddings_metadata=None, embeddings_data=None, update_freq='epoch')\n",
    "\n",
    "callbacks_3 = [checkpoint_3,earlystop_3,tensorboard_3,reduce_lr_3]"
   ]
  },
  {
   "cell_type": "code",
   "execution_count": 0,
   "metadata": {
    "colab": {},
    "colab_type": "code",
    "id": "UkhfUtWXqYcm"
   },
   "outputs": [],
   "source": [
    "# Defining Custom ROC-AUC Metrics\n",
    "from sklearn.metrics import roc_auc_score\n",
    "\n",
    "def auc1(y_true, y_pred):\n",
    "    if len(np.unique(y_true[:,1])) == 1:\n",
    "        return 0.5\n",
    "    else:\n",
    "        return roc_auc_score(y_true, y_pred)\n",
    "\n",
    "def auroc(y_true, y_pred):\n",
    "    return tf.py_func(auc1, (y_true, y_pred), tf.double)"
   ]
  },
  {
   "cell_type": "code",
   "execution_count": 0,
   "metadata": {
    "colab": {},
    "colab_type": "code",
    "id": "Azy0AsmaqbX6"
   },
   "outputs": [],
   "source": [
    "adam = Adam(lr=0.001, beta_1=0.9, beta_2=0.999, epsilon=None, decay=0.0, amsgrad=False)"
   ]
  },
  {
   "cell_type": "code",
   "execution_count": 46,
   "metadata": {
    "colab": {
     "base_uri": "https://localhost:8080/",
     "height": 292
    },
    "colab_type": "code",
    "id": "wLRbByWnqePC",
    "outputId": "11f6d6fb-e636-4776-9979-5790901ac6dd"
   },
   "outputs": [
    {
     "name": "stderr",
     "output_type": "stream",
     "text": [
      "W0812 04:50:06.321554 139841432504192 deprecation_wrapper.py:119] From /usr/local/lib/python3.6/dist-packages/keras/optimizers.py:790: The name tf.train.Optimizer is deprecated. Please use tf.compat.v1.train.Optimizer instead.\n",
      "\n",
      "W0812 04:50:06.356474 139841432504192 deprecation.py:323] From <ipython-input-44-a7e6cba44e56>:10: py_func (from tensorflow.python.ops.script_ops) is deprecated and will be removed in a future version.\n",
      "Instructions for updating:\n",
      "tf.py_func is deprecated in TF V2. Instead, there are two\n",
      "    options available in V2.\n",
      "    - tf.py_function takes a python function which manipulates tf eager\n",
      "    tensors instead of numpy arrays. It's easy to convert a tf eager tensor to\n",
      "    an ndarray (just call tensor.numpy()) but having access to eager tensors\n",
      "    means `tf.py_function`s can use accelerators such as GPUs as well as\n",
      "    being differentiable using a gradient tape.\n",
      "    - tf.numpy_function maintains the semantics of the deprecated tf.py_func\n",
      "    (it is not differentiable, and manipulates numpy arrays). It drops the\n",
      "    stateful argument making all functions stateful.\n",
      "    \n"
     ]
    }
   ],
   "source": [
    "model_3.compile(optimizer=adam, loss='categorical_crossentropy', metrics=[auroc])"
   ]
  },
  {
   "cell_type": "code",
   "execution_count": 47,
   "metadata": {
    "colab": {
     "base_uri": "https://localhost:8080/",
     "height": 1000
    },
    "colab_type": "code",
    "id": "Rni8ciBcqipX",
    "outputId": "84567005-8dfa-45df-f0d1-0b4a2f3968e5"
   },
   "outputs": [
    {
     "name": "stderr",
     "output_type": "stream",
     "text": [
      "W0812 04:50:10.107275 139841432504192 deprecation.py:323] From /usr/local/lib/python3.6/dist-packages/tensorflow/python/ops/math_grad.py:1250: add_dispatch_support.<locals>.wrapper (from tensorflow.python.ops.array_ops) is deprecated and will be removed in a future version.\n",
      "Instructions for updating:\n",
      "Use tf.where in 2.0, which has the same broadcast rule as np.where\n"
     ]
    },
    {
     "name": "stdout",
     "output_type": "stream",
     "text": [
      "Train on 85213 samples, validate on 24035 samples\n"
     ]
    },
    {
     "name": "stderr",
     "output_type": "stream",
     "text": [
      "W0812 04:50:12.976335 139841432504192 deprecation_wrapper.py:119] From /usr/local/lib/python3.6/dist-packages/keras/callbacks.py:850: The name tf.summary.merge_all is deprecated. Please use tf.compat.v1.summary.merge_all instead.\n",
      "\n",
      "W0812 04:50:12.977970 139841432504192 deprecation_wrapper.py:119] From /usr/local/lib/python3.6/dist-packages/keras/callbacks.py:853: The name tf.summary.FileWriter is deprecated. Please use tf.compat.v1.summary.FileWriter instead.\n",
      "\n"
     ]
    },
    {
     "name": "stdout",
     "output_type": "stream",
     "text": [
      "Epoch 1/50\n",
      "85213/85213 [==============================] - 528s 6ms/step - loss: 1.7775 - auroc: 0.5670 - val_loss: 0.6803 - val_auroc: 0.7112\n",
      "\n",
      "Epoch 00001: val_loss improved from inf to 0.68028, saving model to model_3.h5\n",
      "Epoch 2/50\n",
      "85213/85213 [==============================] - 521s 6ms/step - loss: 0.5750 - auroc: 0.7179 - val_loss: 0.5394 - val_auroc: 0.7366\n",
      "\n",
      "Epoch 00002: val_loss improved from 0.68028 to 0.53938, saving model to model_3.h5\n",
      "Epoch 3/50\n",
      "85213/85213 [==============================] - 521s 6ms/step - loss: 0.4893 - auroc: 0.7454 - val_loss: 0.4869 - val_auroc: 0.7538\n",
      "\n",
      "Epoch 00003: val_loss improved from 0.53938 to 0.48691, saving model to model_3.h5\n",
      "Epoch 4/50\n",
      "85213/85213 [==============================] - 521s 6ms/step - loss: 0.4499 - auroc: 0.7563 - val_loss: 0.4677 - val_auroc: 0.7565\n",
      "\n",
      "Epoch 00004: val_loss improved from 0.48691 to 0.46773, saving model to model_3.h5\n",
      "Epoch 5/50\n",
      "85213/85213 [==============================] - 520s 6ms/step - loss: 0.4249 - auroc: 0.7624 - val_loss: 0.4396 - val_auroc: 0.7583\n",
      "\n",
      "Epoch 00005: val_loss improved from 0.46773 to 0.43955, saving model to model_3.h5\n",
      "Epoch 6/50\n",
      "85213/85213 [==============================] - 523s 6ms/step - loss: 0.4137 - auroc: 0.7631 - val_loss: 0.4210 - val_auroc: 0.7638\n",
      "\n",
      "Epoch 00006: val_loss improved from 0.43955 to 0.42097, saving model to model_3.h5\n",
      "Epoch 7/50\n",
      "85213/85213 [==============================] - 523s 6ms/step - loss: 0.4029 - auroc: 0.7665 - val_loss: 0.4166 - val_auroc: 0.7625\n",
      "\n",
      "Epoch 00007: val_loss improved from 0.42097 to 0.41658, saving model to model_3.h5\n",
      "Epoch 8/50\n",
      "85213/85213 [==============================] - 523s 6ms/step - loss: 0.3973 - auroc: 0.7674 - val_loss: 0.3998 - val_auroc: 0.7646\n",
      "\n",
      "Epoch 00008: val_loss improved from 0.41658 to 0.39977, saving model to model_3.h5\n",
      "Epoch 9/50\n",
      "85213/85213 [==============================] - 524s 6ms/step - loss: 0.3916 - auroc: 0.7693 - val_loss: 0.4005 - val_auroc: 0.7640\n",
      "\n",
      "Epoch 00009: val_loss did not improve from 0.39977\n",
      "Epoch 10/50\n",
      "85213/85213 [==============================] - 523s 6ms/step - loss: 0.3903 - auroc: 0.7668 - val_loss: 0.4000 - val_auroc: 0.7614\n",
      "\n",
      "Epoch 00010: val_loss did not improve from 0.39977\n",
      "\n",
      "Epoch 00010: ReduceLROnPlateau reducing learning rate to 0.00020000000949949026.\n",
      "Epoch 11/50\n",
      "85213/85213 [==============================] - 524s 6ms/step - loss: 0.3763 - auroc: 0.7757 - val_loss: 0.3877 - val_auroc: 0.7674\n",
      "\n",
      "Epoch 00011: val_loss improved from 0.39977 to 0.38774, saving model to model_3.h5\n",
      "Epoch 12/50\n",
      "85213/85213 [==============================] - 523s 6ms/step - loss: 0.3715 - auroc: 0.7795 - val_loss: 0.3811 - val_auroc: 0.7680\n",
      "\n",
      "Epoch 00012: val_loss improved from 0.38774 to 0.38107, saving model to model_3.h5\n",
      "Epoch 13/50\n",
      "85213/85213 [==============================] - 524s 6ms/step - loss: 0.3706 - auroc: 0.7807 - val_loss: 0.3800 - val_auroc: 0.7661\n",
      "\n",
      "Epoch 00013: val_loss improved from 0.38107 to 0.37998, saving model to model_3.h5\n",
      "Epoch 14/50\n",
      "85213/85213 [==============================] - 524s 6ms/step - loss: 0.3695 - auroc: 0.7826 - val_loss: 0.3790 - val_auroc: 0.7671\n",
      "\n",
      "Epoch 00014: val_loss improved from 0.37998 to 0.37897, saving model to model_3.h5\n",
      "Epoch 15/50\n",
      "85213/85213 [==============================] - 523s 6ms/step - loss: 0.3689 - auroc: 0.7832 - val_loss: 0.3811 - val_auroc: 0.7683\n",
      "\n",
      "Epoch 00015: val_loss did not improve from 0.37897\n",
      "Epoch 16/50\n",
      "85213/85213 [==============================] - 523s 6ms/step - loss: 0.3687 - auroc: 0.7834 - val_loss: 0.3796 - val_auroc: 0.7691\n",
      "\n",
      "Epoch 00016: val_loss did not improve from 0.37897\n",
      "\n",
      "Epoch 00016: ReduceLROnPlateau reducing learning rate to 4.0000001899898055e-05.\n",
      "Epoch 17/50\n",
      "85213/85213 [==============================] - 522s 6ms/step - loss: 0.3650 - auroc: 0.7871 - val_loss: 0.3781 - val_auroc: 0.7700\n",
      "\n",
      "Epoch 00017: val_loss improved from 0.37897 to 0.37809, saving model to model_3.h5\n",
      "Epoch 18/50\n",
      "85213/85213 [==============================] - 525s 6ms/step - loss: 0.3631 - auroc: 0.7887 - val_loss: 0.3791 - val_auroc: 0.7702\n",
      "\n",
      "Epoch 00018: val_loss did not improve from 0.37809\n",
      "Epoch 19/50\n",
      "85213/85213 [==============================] - 528s 6ms/step - loss: 0.3625 - auroc: 0.7888 - val_loss: 0.3776 - val_auroc: 0.7699\n",
      "\n",
      "Epoch 00019: val_loss improved from 0.37809 to 0.37758, saving model to model_3.h5\n",
      "Epoch 20/50\n",
      "85213/85213 [==============================] - 523s 6ms/step - loss: 0.3618 - auroc: 0.7899 - val_loss: 0.3771 - val_auroc: 0.7699\n",
      "\n",
      "Epoch 00020: val_loss improved from 0.37758 to 0.37714, saving model to model_3.h5\n",
      "Epoch 21/50\n",
      "85213/85213 [==============================] - 522s 6ms/step - loss: 0.3614 - auroc: 0.7909 - val_loss: 0.3770 - val_auroc: 0.7703\n",
      "\n",
      "Epoch 00021: val_loss improved from 0.37714 to 0.37701, saving model to model_3.h5\n",
      "Epoch 22/50\n",
      "85213/85213 [==============================] - 524s 6ms/step - loss: 0.3612 - auroc: 0.7913 - val_loss: 0.3774 - val_auroc: 0.7692\n",
      "\n",
      "Epoch 00022: val_loss did not improve from 0.37701\n",
      "Epoch 23/50\n",
      "85213/85213 [==============================] - 526s 6ms/step - loss: 0.3600 - auroc: 0.7931 - val_loss: 0.3761 - val_auroc: 0.7690\n",
      "\n",
      "Epoch 00023: val_loss improved from 0.37701 to 0.37613, saving model to model_3.h5\n",
      "Epoch 24/50\n",
      "85213/85213 [==============================] - 527s 6ms/step - loss: 0.3600 - auroc: 0.7922 - val_loss: 0.3764 - val_auroc: 0.7695\n",
      "\n",
      "Epoch 00024: val_loss did not improve from 0.37613\n",
      "Epoch 25/50\n",
      "85213/85213 [==============================] - 526s 6ms/step - loss: 0.3604 - auroc: 0.7917 - val_loss: 0.3767 - val_auroc: 0.7694\n",
      "\n",
      "Epoch 00025: val_loss did not improve from 0.37613\n",
      "\n",
      "Epoch 00025: ReduceLROnPlateau reducing learning rate to 8.000000525498762e-06.\n",
      "Epoch 26/50\n",
      "85213/85213 [==============================] - 524s 6ms/step - loss: 0.3582 - auroc: 0.7950 - val_loss: 0.3760 - val_auroc: 0.7692\n",
      "\n",
      "Epoch 00026: val_loss improved from 0.37613 to 0.37602, saving model to model_3.h5\n",
      "Epoch 27/50\n",
      "85213/85213 [==============================] - 525s 6ms/step - loss: 0.3582 - auroc: 0.7943 - val_loss: 0.3763 - val_auroc: 0.7695\n",
      "\n",
      "Epoch 00027: val_loss did not improve from 0.37602\n",
      "Epoch 28/50\n",
      "85213/85213 [==============================] - 523s 6ms/step - loss: 0.3573 - auroc: 0.7961 - val_loss: 0.3758 - val_auroc: 0.7695\n",
      "\n",
      "Epoch 00028: val_loss improved from 0.37602 to 0.37585, saving model to model_3.h5\n",
      "Epoch 29/50\n",
      "85213/85213 [==============================] - 518s 6ms/step - loss: 0.3578 - auroc: 0.7959 - val_loss: 0.3762 - val_auroc: 0.7695\n",
      "\n",
      "Epoch 00029: val_loss did not improve from 0.37585\n",
      "Epoch 30/50\n",
      "85213/85213 [==============================] - 519s 6ms/step - loss: 0.3574 - auroc: 0.7960 - val_loss: 0.3760 - val_auroc: 0.7694\n",
      "\n",
      "Epoch 00030: val_loss did not improve from 0.37585\n",
      "\n",
      "Epoch 00030: ReduceLROnPlateau reducing learning rate to 1.6000001778593287e-06.\n",
      "Epoch 31/50\n",
      "85213/85213 [==============================] - 521s 6ms/step - loss: 0.3567 - auroc: 0.7975 - val_loss: 0.3758 - val_auroc: 0.7693\n",
      "\n",
      "Epoch 00031: val_loss improved from 0.37585 to 0.37583, saving model to model_3.h5\n",
      "Epoch 32/50\n",
      "85213/85213 [==============================] - 519s 6ms/step - loss: 0.3572 - auroc: 0.7960 - val_loss: 0.3759 - val_auroc: 0.7693\n",
      "\n",
      "Epoch 00032: val_loss did not improve from 0.37583\n",
      "\n",
      "Epoch 00032: ReduceLROnPlateau reducing learning rate to 3.200000264769187e-07.\n",
      "Epoch 33/50\n",
      "85213/85213 [==============================] - 519s 6ms/step - loss: 0.3569 - auroc: 0.7969 - val_loss: 0.3758 - val_auroc: 0.7693\n",
      "\n",
      "Epoch 00033: val_loss improved from 0.37583 to 0.37583, saving model to model_3.h5\n",
      "Epoch 34/50\n",
      "85213/85213 [==============================] - 519s 6ms/step - loss: 0.3565 - auroc: 0.7974 - val_loss: 0.3758 - val_auroc: 0.7693\n",
      "\n",
      "Epoch 00034: val_loss improved from 0.37583 to 0.37578, saving model to model_3.h5\n",
      "\n",
      "Epoch 00034: ReduceLROnPlateau reducing learning rate to 6.400000529538374e-08.\n",
      "Epoch 35/50\n",
      "85213/85213 [==============================] - 520s 6ms/step - loss: 0.3577 - auroc: 0.7952 - val_loss: 0.3758 - val_auroc: 0.7693\n",
      "\n",
      "Epoch 00035: val_loss improved from 0.37578 to 0.37578, saving model to model_3.h5\n",
      "Epoch 36/50\n",
      "85213/85213 [==============================] - 519s 6ms/step - loss: 0.3567 - auroc: 0.7969 - val_loss: 0.3758 - val_auroc: 0.7693\n",
      "\n",
      "Epoch 00036: val_loss improved from 0.37578 to 0.37578, saving model to model_3.h5\n",
      "\n",
      "Epoch 00036: ReduceLROnPlateau reducing learning rate to 1.2800001059076749e-08.\n",
      "Epoch 37/50\n",
      "85213/85213 [==============================] - 519s 6ms/step - loss: 0.3569 - auroc: 0.7968 - val_loss: 0.3758 - val_auroc: 0.7693\n",
      "\n",
      "Epoch 00037: val_loss did not improve from 0.37578\n",
      "Epoch 38/50\n",
      "85213/85213 [==============================] - 519s 6ms/step - loss: 0.3565 - auroc: 0.7973 - val_loss: 0.3758 - val_auroc: 0.7693\n",
      "\n",
      "Epoch 00038: val_loss improved from 0.37578 to 0.37578, saving model to model_3.h5\n",
      "\n",
      "Epoch 00038: ReduceLROnPlateau reducing learning rate to 2.5600002118153498e-09.\n",
      "Epoch 39/50\n",
      "85213/85213 [==============================] - 519s 6ms/step - loss: 0.3571 - auroc: 0.7961 - val_loss: 0.3758 - val_auroc: 0.7693\n",
      "\n",
      "Epoch 00039: val_loss improved from 0.37578 to 0.37578, saving model to model_3.h5\n",
      "Epoch 40/50\n",
      "85213/85213 [==============================] - 518s 6ms/step - loss: 0.3571 - auroc: 0.7962 - val_loss: 0.3758 - val_auroc: 0.7693\n",
      "\n",
      "Epoch 00040: val_loss improved from 0.37578 to 0.37578, saving model to model_3.h5\n",
      "\n",
      "Epoch 00040: ReduceLROnPlateau reducing learning rate to 5.1200004236307e-10.\n",
      "Epoch 41/50\n",
      "85213/85213 [==============================] - 520s 6ms/step - loss: 0.3572 - auroc: 0.7957 - val_loss: 0.3758 - val_auroc: 0.7693\n",
      "\n",
      "Epoch 00041: val_loss improved from 0.37578 to 0.37578, saving model to model_3.h5\n",
      "Epoch 42/50\n",
      "85213/85213 [==============================] - 519s 6ms/step - loss: 0.3572 - auroc: 0.7962 - val_loss: 0.3758 - val_auroc: 0.7693\n",
      "\n",
      "Epoch 00042: val_loss improved from 0.37578 to 0.37578, saving model to model_3.h5\n",
      "\n",
      "Epoch 00042: ReduceLROnPlateau reducing learning rate to 1.0240001069306004e-10.\n",
      "Epoch 43/50\n",
      "85213/85213 [==============================] - 519s 6ms/step - loss: 0.3570 - auroc: 0.7964 - val_loss: 0.3758 - val_auroc: 0.7693\n",
      "\n",
      "Epoch 00043: val_loss did not improve from 0.37578\n",
      "Epoch 44/50\n",
      "85213/85213 [==============================] - 519s 6ms/step - loss: 0.3572 - auroc: 0.7964 - val_loss: 0.3758 - val_auroc: 0.7693\n",
      "\n",
      "Epoch 00044: val_loss did not improve from 0.37578\n",
      "\n",
      "Epoch 00044: ReduceLROnPlateau reducing learning rate to 2.0480002416167767e-11.\n",
      "Epoch 45/50\n",
      "85213/85213 [==============================] - 519s 6ms/step - loss: 0.3570 - auroc: 0.7962 - val_loss: 0.3758 - val_auroc: 0.7693\n",
      "\n",
      "Epoch 00045: val_loss improved from 0.37578 to 0.37578, saving model to model_3.h5\n",
      "Epoch 46/50\n",
      "85213/85213 [==============================] - 519s 6ms/step - loss: 0.3574 - auroc: 0.7953 - val_loss: 0.3758 - val_auroc: 0.7693\n",
      "\n",
      "Epoch 00046: val_loss did not improve from 0.37578\n",
      "\n",
      "Epoch 00046: ReduceLROnPlateau reducing learning rate to 4.096000622011431e-12.\n",
      "Epoch 47/50\n",
      "85213/85213 [==============================] - 520s 6ms/step - loss: 0.3569 - auroc: 0.7971 - val_loss: 0.3758 - val_auroc: 0.7693\n",
      "\n",
      "Epoch 00047: val_loss did not improve from 0.37578\n",
      "Epoch 48/50\n",
      "85213/85213 [==============================] - 521s 6ms/step - loss: 0.3569 - auroc: 0.7969 - val_loss: 0.3758 - val_auroc: 0.7693\n",
      "\n",
      "Epoch 00048: val_loss did not improve from 0.37578\n",
      "\n",
      "Epoch 00048: ReduceLROnPlateau reducing learning rate to 8.192000897078167e-13.\n",
      "Epoch 49/50\n",
      "85213/85213 [==============================] - 521s 6ms/step - loss: 0.3572 - auroc: 0.7962 - val_loss: 0.3758 - val_auroc: 0.7693\n",
      "\n",
      "Epoch 00049: val_loss did not improve from 0.37578\n",
      "Epoch 50/50\n",
      "85213/85213 [==============================] - 519s 6ms/step - loss: 0.3574 - auroc: 0.7959 - val_loss: 0.3758 - val_auroc: 0.7693\n",
      "\n",
      "Epoch 00050: val_loss improved from 0.37578 to 0.37578, saving model to model_3.h5\n",
      "\n",
      "Epoch 00050: ReduceLROnPlateau reducing learning rate to 1.6384001360475466e-13.\n"
     ]
    }
   ],
   "source": [
    "history_3 = model_3.fit(train_data_3,Y_train,batch_size=512,\n",
    "                        epochs=50,validation_data=(test_data_3,Y_test),callbacks=callbacks_3)"
   ]
  },
  {
   "cell_type": "code",
   "execution_count": 48,
   "metadata": {
    "colab": {
     "base_uri": "https://localhost:8080/",
     "height": 531
    },
    "colab_type": "code",
    "id": "meSHaCZ6Mf4y",
    "outputId": "f33222b1-1b01-4a7c-9749-bad5008d4e71"
   },
   "outputs": [
    {
     "data": {
      "image/png": "[encoded data removed]",
      "text/plain": [
       "<Figure size 432x288 with 1 Axes>"
      ]
     },
     "metadata": {
      "tags": []
     },
     "output_type": "display_data"
    },
    {
     "data": {
      "image/png": "[encoded data removed]",
      "text/plain": [
       "<Figure size 432x288 with 1 Axes>"
      ]
     },
     "metadata": {
      "tags": []
     },
     "output_type": "display_data"
    }
   ],
   "source": [
    "sns.set()\n",
    "plt.plot(history_3.history['auroc'], 'r')\n",
    "plt.plot(history_3.history['val_auroc'], 'b')\n",
    "plt.legend({'Train ROCAUC': 'r', 'Test ROCAUC':'b'})\n",
    "plt.show()\n",
    "\n",
    "\n",
    "plt.plot(history_3.history['loss'], 'r')\n",
    "plt.plot(history_3.history['val_loss'], 'b')\n",
    "plt.legend({'Train Loss': 'r', 'Test Loss':'b'})\n",
    "plt.show()"
   ]
  },
  {
   "cell_type": "code",
   "execution_count": 0,
   "metadata": {
    "colab": {},
    "colab_type": "code",
    "id": "D8x4S-ElMxMp"
   },
   "outputs": [],
   "source": []
  }
 ],
 "metadata": {
  "accelerator": "GPU",
  "colab": {
   "name": "Model-3.ipynb",
   "provenance": [],
   "version": "0.3.2"
  },
  "kernelspec": {
   "display_name": "Python 3",
   "language": "python",
   "name": "python3"
  },
  "language_info": {
   "codemirror_mode": {
    "name": "ipython",
    "version": 3
   },
   "file_extension": ".py",
   "mimetype": "text/x-python",
   "name": "python",
   "nbconvert_exporter": "python",
   "pygments_lexer": "ipython3",
   "version": "3.6.8"
  }
 },
 "nbformat": 4,
 "nbformat_minor": 1
}
